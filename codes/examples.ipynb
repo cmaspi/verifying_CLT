{
 "cells": [
  {
   "cell_type": "code",
   "execution_count": 1,
   "id": "e6e7d13e",
   "metadata": {},
   "outputs": [],
   "source": [
    "import numpy as np\n",
    "from scipy.stats import shapiro\n",
    "import statistics"
   ]
  },
  {
   "cell_type": "markdown",
   "id": "982f28ef",
   "metadata": {},
   "source": [
    "We use the following definition of $W$,\n",
    "$$\\begin{align*}\n",
    "                W = \\frac{b^{2}}{s^{2}(n-1)}\n",
    "\\end{align*}$$\n",
    "where \n",
    "$$\n",
    "\\begin{align*}\n",
    "b=\\sum_{i} b_{i} = \\sum_{i=1}^{\\lceil{n/2}\\rceil} (x_{(n-i+1)}-x_{(i)}) a_{in} \n",
    "\\end{align*}\n",
    "$$\n",
    "where $x_{(i)}$ is $i^{th}$ order statistic i.e, $i^{th}$ smallest element in the sample"
   ]
  },
  {
   "cell_type": "markdown",
   "id": "1ca0af64",
   "metadata": {},
   "source": [
    "## Example -1 "
   ]
  },
  {
   "cell_type": "code",
   "execution_count": 2,
   "id": "8d6208bf",
   "metadata": {},
   "outputs": [
    {
     "name": "stdout",
     "output_type": "stream",
     "text": [
      "Calculated Value of W: 0.679040022858802\n",
      "W using scipy.stats = 0.6788886785507202 p-value of the dataset= 2.1792560801259242e-05\n"
     ]
    }
   ],
   "source": [
    "x = [58.8,19,39,3.1,1,81.5,151,942,262,331,27,85.6,56,14,21.4,10,8.7,64.4,578,637]\n",
    "y = [58.8,19,39,3.1,1,81.5,151,942,262,331,27,85.6,56,14,21.4,10,8.7,64.4,578,637]\n",
    "coeff = [0.4734,0.3211,0.2565,0.2085,0.1686,0.1334,0.1013,0.0711,0.0422,0.0140]\n",
    "n = 20\n",
    "x.sort()\n",
    "y.sort(reverse=True)\n",
    "std = statistics.stdev(x)\n",
    "diff = np.array(y) - np.array(x)\n",
    "mat = diff[:10]\n",
    "b = mat@coeff\n",
    "w = (b**2)/((std**2)*(n-1))\n",
    "print('Calculated Value of W:',w)\n",
    "W_using_scipy,p_value = shapiro(x)\n",
    "print('W using scipy.stats =',W_using_scipy,'p-value of the dataset=',p_value)"
   ]
  },
  {
   "cell_type": "markdown",
   "id": "53203a75",
   "metadata": {},
   "source": [
    "## Example -2"
   ]
  },
  {
   "cell_type": "code",
   "execution_count": 3,
   "id": "3b8e70dc",
   "metadata": {},
   "outputs": [
    {
     "name": "stdout",
     "output_type": "stream",
     "text": [
      "Calculated Value of W: 0.9478946044311581\n",
      "W using scipy.stats = 0.9594313502311707 p-value of the dataset= 0.7793692350387573\n"
     ]
    }
   ],
   "source": [
    "x = [20,38,40,45,50,63,70,75,79,86]\n",
    "y = [20,38,40,45,50,63,70,75,79,86]\n",
    "coeff_ = np.array([0.5739,0.3219,0.2141,0.1224,0.0339])\n",
    "n=10\n",
    "x.sort()\n",
    "y.sort(reverse=True)\n",
    "std = statistics.stdev(x)\n",
    "diff = np.array(y) - np.array(x)\n",
    "mat = diff[:5]\n",
    "b = mat@coeff_\n",
    "w = (b**2)/((std**2)*(n-1))\n",
    "print('Calculated Value of W:',w)\n",
    "W_using_scipy,p_value = shapiro(x)\n",
    "print('W using scipy.stats =',W_using_scipy,'p-value of the dataset=',p_value)"
   ]
  }
 ],
 "metadata": {
  "kernelspec": {
   "display_name": "Python 3 (ipykernel)",
   "language": "python",
   "name": "python3"
  },
  "language_info": {
   "codemirror_mode": {
    "name": "ipython",
    "version": 3
   },
   "file_extension": ".py",
   "mimetype": "text/x-python",
   "name": "python",
   "nbconvert_exporter": "python",
   "pygments_lexer": "ipython3",
   "version": "3.8.10"
  }
 },
 "nbformat": 4,
 "nbformat_minor": 5
}
